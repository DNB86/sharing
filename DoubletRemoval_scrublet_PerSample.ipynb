{
 "cells": [
  {
   "cell_type": "code",
   "execution_count": null,
   "metadata": {},
   "outputs": [],
   "source": [
    "#----  Run doublet removal using scrublet accros samples \n",
    "\n",
    "# Scrublet github:  https://github.com/AllonKleinLab/scrublet\n",
    "# Scrublet preprint: https://www.biorxiv.org/content/10.1101/357368v1\n"
   ]
  },
  {
   "cell_type": "code",
   "execution_count": 1,
   "metadata": {},
   "outputs": [
    {
     "name": "stderr",
     "output_type": "stream",
     "text": [
      "/home/nehard/anaconda3/lib/python3.6/site-packages/h5py/__init__.py:36: FutureWarning: Conversion of the second argument of issubdtype from `float` to `np.floating` is deprecated. In future, it will be treated as `np.float64 == np.dtype(float).type`.\n",
      "  from ._conv import register_converters as _register_converters\n"
     ]
    },
    {
     "name": "stdout",
     "output_type": "stream",
     "text": [
      "scanpy==1.4.3 anndata==0.6.22.post1 umap==0.3.9 numpy==1.14.3 scipy==1.2.1 pandas==0.24.2 scikit-learn==0.19.1 statsmodels==0.10.1 python-igraph==0.7.1 louvain==0.6.1 \n"
     ]
    }
   ],
   "source": [
    "import numpy as np\n",
    "import pandas as pd\n",
    "import scanpy.api as sc\n",
    "\n",
    "%matplotlib inline\n",
    "import scrublet as scr\n",
    "import scipy.io\n",
    "    \n",
    "import matplotlib\n",
    "import matplotlib.pyplot as plt\n",
    "matplotlib.style.use('default')  \n",
    "\n",
    "import os\n",
    "import re\n",
    "import glob\n",
    "\n",
    "sc.settings.set_figure_params(dpi=80)\n",
    "sc.logging.print_versions()\n"
   ]
  },
  {
   "cell_type": "code",
   "execution_count": 2,
   "metadata": {},
   "outputs": [],
   "source": [
    "sc.settings.verbosity = 3  # verbosity: errors (0), warnings (1), info (2), hints (3)"
   ]
  },
  {
   "cell_type": "code",
   "execution_count": 3,
   "metadata": {},
   "outputs": [
    {
     "name": "stdout",
     "output_type": "stream",
     "text": [
      "... writing an h5ad cache file to speedup reading next time\n"
     ]
    },
    {
     "data": {
      "text/plain": [
       "View of AnnData object with n_obs × n_vars = 525082 × 33538 \n",
       "    var: 'gene_ids', 'feature_types'"
      ]
     },
     "execution_count": 3,
     "metadata": {},
     "output_type": "execute_result"
    }
   ],
   "source": [
    "#-- read 10X output\n",
    "\n",
    "adata = sc.read_10x_mtx('/mypath/outs/filtered_feature_bc_matrix', var_names='gene_symbols', cache=True)\n",
    "adata"
   ]
  },
  {
   "cell_type": "code",
   "execution_count": 4,
   "metadata": {},
   "outputs": [
    {
     "name": "stderr",
     "output_type": "stream",
     "text": [
      "Trying to set attribute `.var` of view, making a copy.\n",
      "... storing 'feature_types' as categorical\n"
     ]
    }
   ],
   "source": [
    "#-- save rawdata h5ad object \n",
    "adata.write('./mypath/ProjectName.h5ad')"
   ]
  },
  {
   "cell_type": "code",
   "execution_count": 7,
   "metadata": {},
   "outputs": [
    {
     "data": {
      "text/plain": [
       "AnnData object with n_obs × n_vars = 525082 × 33538 \n",
       "    var: 'gene_ids', 'feature_types'"
      ]
     },
     "execution_count": 7,
     "metadata": {},
     "output_type": "execute_result"
    }
   ],
   "source": [
    "adata_raw =sc.read('./mypath/H5AD/ProjectName.h5ad')\n",
    "adata_raw"
   ]
  },
  {
   "cell_type": "code",
   "execution_count": 8,
   "metadata": {},
   "outputs": [
    {
     "data": {
      "text/html": [
       "<div>\n",
       "<style scoped>\n",
       "    .dataframe tbody tr th:only-of-type {\n",
       "        vertical-align: middle;\n",
       "    }\n",
       "\n",
       "    .dataframe tbody tr th {\n",
       "        vertical-align: top;\n",
       "    }\n",
       "\n",
       "    .dataframe thead th {\n",
       "        text-align: right;\n",
       "    }\n",
       "</style>\n",
       "<table border=\"1\" class=\"dataframe\">\n",
       "  <thead>\n",
       "    <tr style=\"text-align: right;\">\n",
       "      <th></th>\n",
       "    </tr>\n",
       "    <tr>\n",
       "      <th>index</th>\n",
       "    </tr>\n",
       "  </thead>\n",
       "  <tbody>\n",
       "    <tr>\n",
       "      <th>AAACCTGAGACTTTCG-1</th>\n",
       "    </tr>\n",
       "    <tr>\n",
       "      <th>AAACCTGAGGACCACA-1</th>\n",
       "    </tr>\n",
       "    <tr>\n",
       "      <th>AAACCTGCACACGCTG-1</th>\n",
       "    </tr>\n",
       "    <tr>\n",
       "      <th>AAACCTGCACCACCAG-1</th>\n",
       "    </tr>\n",
       "    <tr>\n",
       "      <th>AAACCTGGTAGAGCTG-1</th>\n",
       "    </tr>\n",
       "  </tbody>\n",
       "</table>\n",
       "</div>"
      ],
      "text/plain": [
       "Empty DataFrame\n",
       "Columns: []\n",
       "Index: [AAACCTGAGACTTTCG-1, AAACCTGAGGACCACA-1, AAACCTGCACACGCTG-1, AAACCTGCACCACCAG-1, AAACCTGGTAGAGCTG-1]"
      ]
     },
     "execution_count": 8,
     "metadata": {},
     "output_type": "execute_result"
    }
   ],
   "source": [
    "adata_raw.obs.head(5)"
   ]
  },
  {
   "cell_type": "code",
   "execution_count": 9,
   "metadata": {},
   "outputs": [],
   "source": [
    "#--- save meta before scruber (BS)\n",
    "adata_raw.obs.to_csv('./mypath/Meta/ProjectName.csv')"
   ]
  },
  {
   "cell_type": "code",
   "execution_count": 10,
   "metadata": {},
   "outputs": [
    {
     "data": {
      "text/html": [
       "<div>\n",
       "<style scoped>\n",
       "    .dataframe tbody tr th:only-of-type {\n",
       "        vertical-align: middle;\n",
       "    }\n",
       "\n",
       "    .dataframe tbody tr th {\n",
       "        vertical-align: top;\n",
       "    }\n",
       "\n",
       "    .dataframe thead th {\n",
       "        text-align: right;\n",
       "    }\n",
       "</style>\n",
       "<table border=\"1\" class=\"dataframe\">\n",
       "  <thead>\n",
       "    <tr style=\"text-align: right;\">\n",
       "      <th></th>\n",
       "      <th>Samples</th>\n",
       "      <th>Groups</th>\n",
       "      <th>Batches</th>\n",
       "      <th>IDs</th>\n",
       "      <th>Sample_ids</th>\n",
       "      <th>Age</th>\n",
       "      <th>Gender</th>\n",
       "      <th>Names</th>\n",
       "      <th>X10X_Chemistry</th>\n",
       "    </tr>\n",
       "  </thead>\n",
       "  <tbody>\n",
       "    <tr>\n",
       "      <th>TTTGTTGTCAGACCTA-66</th>\n",
       "      <td>66</td>\n",
       "      <td>HC</td>\n",
       "      <td>B21</td>\n",
       "      <td>JB19041</td>\n",
       "      <td>HPIR-051-9</td>\n",
       "      <td>13y</td>\n",
       "      <td>F</td>\n",
       "      <td>HC_16</td>\n",
       "      <td>v3</td>\n",
       "    </tr>\n",
       "    <tr>\n",
       "      <th>TTTGTTGTCGCTTGAA-66</th>\n",
       "      <td>66</td>\n",
       "      <td>HC</td>\n",
       "      <td>B21</td>\n",
       "      <td>JB19041</td>\n",
       "      <td>HPIR-051-9</td>\n",
       "      <td>13y</td>\n",
       "      <td>F</td>\n",
       "      <td>HC_16</td>\n",
       "      <td>v3</td>\n",
       "    </tr>\n",
       "    <tr>\n",
       "      <th>TTTGTTGTCGGTTGTA-66</th>\n",
       "      <td>66</td>\n",
       "      <td>HC</td>\n",
       "      <td>B21</td>\n",
       "      <td>JB19041</td>\n",
       "      <td>HPIR-051-9</td>\n",
       "      <td>13y</td>\n",
       "      <td>F</td>\n",
       "      <td>HC_16</td>\n",
       "      <td>v3</td>\n",
       "    </tr>\n",
       "    <tr>\n",
       "      <th>TTTGTTGTCTTCGTAT-66</th>\n",
       "      <td>66</td>\n",
       "      <td>HC</td>\n",
       "      <td>B21</td>\n",
       "      <td>JB19041</td>\n",
       "      <td>HPIR-051-9</td>\n",
       "      <td>13y</td>\n",
       "      <td>F</td>\n",
       "      <td>HC_16</td>\n",
       "      <td>v3</td>\n",
       "    </tr>\n",
       "  </tbody>\n",
       "</table>\n",
       "</div>"
      ],
      "text/plain": [
       "                     Samples Groups Batches      IDs  Sample_ids  Age Gender  \\\n",
       "TTTGTTGTCAGACCTA-66       66     HC     B21  JB19041  HPIR-051-9  13y      F   \n",
       "TTTGTTGTCGCTTGAA-66       66     HC     B21  JB19041  HPIR-051-9  13y      F   \n",
       "TTTGTTGTCGGTTGTA-66       66     HC     B21  JB19041  HPIR-051-9  13y      F   \n",
       "TTTGTTGTCTTCGTAT-66       66     HC     B21  JB19041  HPIR-051-9  13y      F   \n",
       "\n",
       "                     Names X10X_Chemistry  \n",
       "TTTGTTGTCAGACCTA-66  HC_16             v3  \n",
       "TTTGTTGTCGCTTGAA-66  HC_16             v3  \n",
       "TTTGTTGTCGGTTGTA-66  HC_16             v3  \n",
       "TTTGTTGTCTTCGTAT-66  HC_16             v3  "
      ]
     },
     "execution_count": 10,
     "metadata": {},
     "output_type": "execute_result"
    }
   ],
   "source": [
    "#--- Meta after R (from samples to cells)\n",
    "\n",
    "Meta = pd.read_csv('./Meta/MetaII_LifeSpan_BS_092819.csv', index_col=0)\n",
    "Meta.tail(4)"
   ]
  },
  {
   "cell_type": "code",
   "execution_count": 11,
   "metadata": {},
   "outputs": [],
   "source": [
    "#-- Add MetaData to H5AD object  \n",
    "\n",
    "adata_raw.obs['Gender']= Meta['Gender']\n",
    "adata_raw.obs['Samples']= Meta['Samples']\n",
    "adata_raw.obs['Names']= Meta['Names']\n"
   ]
  },
  {
   "cell_type": "code",
   "execution_count": 12,
   "metadata": {},
   "outputs": [
    {
     "name": "stderr",
     "output_type": "stream",
     "text": [
      "... storing 'Gender' as categorical\n",
      "... storing 'Names' as categorical\n",
      "... storing 'Age' as categorical\n",
      "... storing 'Batches' as categorical\n",
      "... storing 'Groups' as categorical\n",
      "... storing 'Sample_ids' as categorical\n",
      "... storing 'Chemistry' as categorical\n",
      "... storing 'IDs' as categorical\n"
     ]
    }
   ],
   "source": [
    "adata_raw.write('/mypath/H5AD/ProjectName.h5ad')"
   ]
  },
  {
   "cell_type": "code",
   "execution_count": 13,
   "metadata": {},
   "outputs": [
    {
     "data": {
      "text/plain": [
       "AnnData object with n_obs × n_vars = 525082 × 33538 \n",
       "    obs: 'Gender', 'Samples', 'Names', 'Age', 'Batches', 'Groups', 'Sample_ids', 'Chemistry', 'IDs'\n",
       "    var: 'gene_ids', 'feature_types'"
      ]
     },
     "execution_count": 13,
     "metadata": {},
     "output_type": "execute_result"
    }
   ],
   "source": [
    "adata_raw =sc.read('/mypath/H5AD/ProjectName.h5ad')\n",
    "adata_raw"
   ]
  },
  {
   "cell_type": "code",
   "execution_count": 27,
   "metadata": {},
   "outputs": [],
   "source": [
    "names = np.unique(list(adata_raw.obs['Names']))"
   ]
  },
  {
   "cell_type": "code",
   "execution_count": 21,
   "metadata": {},
   "outputs": [],
   "source": [
    "#-- create File directory \n",
    "!mkdir Files"
   ]
  },
  {
   "cell_type": "code",
   "execution_count": null,
   "metadata": {},
   "outputs": [],
   "source": [
    "#--- run Scrublet across the samples \n",
    "\n",
    "for sample in names:\n",
    "    \n",
    "    cells_of_interest = adata_raw.obs.loc[adata_raw.obs[\"Names\"] == sample, :].index\n",
    "    \n",
    "    adata_i = adata_raw[cells_of_interest, :]\n",
    "    \n",
    "    scrub = scr.Scrublet(adata_i.X, expected_doublet_rate=0.06)\n",
    "    \n",
    "    doublet_scores, predicted_doublets = scrub.scrub_doublets(min_counts=2, \n",
    "                                                          min_cells=3, \n",
    "                                                          min_gene_variability_pctl=85, \n",
    "                                                          n_prin_comps=30)\n",
    "    scrub.plot_histogram();\n",
    "    \n",
    "    print('Running UMAP...')\n",
    "        \n",
    "    scrub.set_embedding('UMAP', scr.get_umap(scrub.manifold_obs_, 10, min_dist=0.3))\n",
    "        \n",
    "    print('Done.')\n",
    "        \n",
    "    scrub.plot_embedding('UMAP', order_points=True);\n",
    "    \n",
    "    #doublet_score= pd.DataFrame({'doublet_scores' :list(doublet_scores),'predicted_doublets': list(predicted_doublets)})\n",
    "        \n",
    "    adata_i.obs['doublet_score']=scrub.doublet_scores_obs_\n",
    "    adata_i.uns['sim_doublet_score']=scrub.doublet_scores_sim_\n",
    "        \n",
    "    adata_i.obs[['doublet_score']].to_csv('./Files/'+ sample + \"_Scrub.csv\")\n",
    "    \n",
    "    continue"
   ]
  },
  {
   "cell_type": "code",
   "execution_count": 31,
   "metadata": {},
   "outputs": [],
   "source": [
    "#--- concatenate different csv files (from individual samples)\n",
    "#--- crate combined .csv file \n",
    "\n",
    "path = r'./Files' # use your path\n",
    "all_files = glob.glob(path + \"/*.csv\")\n",
    "\n",
    "li = []\n",
    "\n",
    "for filename in all_files:\n",
    "    df = pd.read_csv(filename, index_col=None, header=0)\n",
    "    li.append(df)\n",
    "\n",
    "frame = pd.concat(li, axis=0, ignore_index=True)\n"
   ]
  },
  {
   "cell_type": "code",
   "execution_count": 32,
   "metadata": {},
   "outputs": [],
   "source": [
    "#-- save the combined csv file \n",
    "\n",
    "frame.to_csv(\"mypath/Files/comb_csv.csv\", index=False) "
   ]
  },
  {
   "cell_type": "code",
   "execution_count": 33,
   "metadata": {},
   "outputs": [],
   "source": [
    "#Scru = pd.read_csv(\".mypathFiles/comb_csv.csv\",header=0)"
   ]
  },
  {
   "cell_type": "code",
   "execution_count": 35,
   "metadata": {},
   "outputs": [
    {
     "data": {
      "text/html": [
       "<div>\n",
       "<style scoped>\n",
       "    .dataframe tbody tr th:only-of-type {\n",
       "        vertical-align: middle;\n",
       "    }\n",
       "\n",
       "    .dataframe tbody tr th {\n",
       "        vertical-align: top;\n",
       "    }\n",
       "\n",
       "    .dataframe thead th {\n",
       "        text-align: right;\n",
       "    }\n",
       "</style>\n",
       "<table border=\"1\" class=\"dataframe\">\n",
       "  <thead>\n",
       "    <tr style=\"text-align: right;\">\n",
       "      <th></th>\n",
       "      <th>doublet_score</th>\n",
       "    </tr>\n",
       "    <tr>\n",
       "      <th>index</th>\n",
       "      <th></th>\n",
       "    </tr>\n",
       "  </thead>\n",
       "  <tbody>\n",
       "    <tr>\n",
       "      <th>AAACCTGAGAGCAATT-33</th>\n",
       "      <td>0.015378</td>\n",
       "    </tr>\n",
       "    <tr>\n",
       "      <th>AAACCTGAGCGTGAGT-33</th>\n",
       "      <td>0.104762</td>\n",
       "    </tr>\n",
       "    <tr>\n",
       "      <th>AAACCTGAGTCATGCT-33</th>\n",
       "      <td>0.008269</td>\n",
       "    </tr>\n",
       "    <tr>\n",
       "      <th>AAACCTGCAATCCAAC-33</th>\n",
       "      <td>0.031796</td>\n",
       "    </tr>\n",
       "    <tr>\n",
       "      <th>AAACCTGCACGGTAGA-33</th>\n",
       "      <td>0.057644</td>\n",
       "    </tr>\n",
       "  </tbody>\n",
       "</table>\n",
       "</div>"
      ],
      "text/plain": [
       "                     doublet_score\n",
       "index                             \n",
       "AAACCTGAGAGCAATT-33       0.015378\n",
       "AAACCTGAGCGTGAGT-33       0.104762\n",
       "AAACCTGAGTCATGCT-33       0.008269\n",
       "AAACCTGCAATCCAAC-33       0.031796\n",
       "AAACCTGCACGGTAGA-33       0.057644"
      ]
     },
     "execution_count": 35,
     "metadata": {},
     "output_type": "execute_result"
    }
   ],
   "source": [
    "Scru = Scru.set_index('index')\n",
    "Scru.head(5)"
   ]
  },
  {
   "cell_type": "code",
   "execution_count": 36,
   "metadata": {},
   "outputs": [],
   "source": [
    "#-- add doublet scores to the h5ad object \n",
    "\n",
    "adata_raw.obs['doublet_score']=Scru.doublet_score"
   ]
  },
  {
   "cell_type": "code",
   "execution_count": 39,
   "metadata": {},
   "outputs": [],
   "source": [
    "#--- Define threshold to be applyed + define doublet vs. singlet\n",
    "threshold = 0.18\n",
    "adata_raw.obs['predicted_doublets_1'] = pd.Categorical(['doublet' if x > threshold else 'singlet' for x in adata_raw.obs.doublet_score])"
   ]
  },
  {
   "cell_type": "code",
   "execution_count": 1,
   "metadata": {},
   "outputs": [],
   "source": [
    "#-- number of singlet and doublets \n",
    "\n",
    "adata_raw.obs.predicted_doublets_1.value_counts()"
   ]
  },
  {
   "cell_type": "code",
   "execution_count": 41,
   "metadata": {},
   "outputs": [
    {
     "data": {
      "text/plain": [
       "Index(['AAACCTGAGACTTTCG-1', 'AAACCTGAGGACCACA-1', 'AAACCTGCACACGCTG-1',\n",
       "       'AAACCTGCACCACCAG-1', 'AAACCTGGTAGAGCTG-1', 'AAACCTGGTTCGGCAC-1',\n",
       "       'AAACCTGTCGCTTAGA-1', 'AAACGGGAGATATGGT-1', 'AAACGGGAGCGATGAC-1',\n",
       "       'AAACGGGAGGACAGCT-1',\n",
       "       ...\n",
       "       'TTTGGTTCACCTCGTT-66', 'TTTGGTTGTTATGACC-66', 'TTTGTTGAGATCCGAG-66',\n",
       "       'TTTGTTGCAACGATTC-66', 'TTTGTTGCACGGATCC-66', 'TTTGTTGGTGTCATTG-66',\n",
       "       'TTTGTTGTCAGACCTA-66', 'TTTGTTGTCGCTTGAA-66', 'TTTGTTGTCGGTTGTA-66',\n",
       "       'TTTGTTGTCTTCGTAT-66'],\n",
       "      dtype='object', name='index', length=487145)"
      ]
     },
     "execution_count": 41,
     "metadata": {},
     "output_type": "execute_result"
    }
   ],
   "source": [
    "#-- Extract cells defined as singlets \n",
    "\n",
    "cells_of_interest1 = adata_raw.obs.loc[adata_raw.obs[\"predicted_doublets_1\"].isin([\"singlet\"]), :].index\n",
    "cells_of_interest1"
   ]
  },
  {
   "cell_type": "code",
   "execution_count": 2,
   "metadata": {},
   "outputs": [],
   "source": [
    "#-- subset h5ad using the singlet (and discarding doublets)\n",
    "\n",
    "adata_Scrub=adata_raw[cells_of_interest1, :]\n",
    "adata_Scrub\n"
   ]
  },
  {
   "cell_type": "code",
   "execution_count": 43,
   "metadata": {},
   "outputs": [],
   "source": [
    "#--save the 'singlet object'\n",
    "adata_Scrub.write(results_file1)\n",
    "results_file1=('/mypath/ProjectName.h5ad')\n"
   ]
  }
 ],
 "metadata": {
  "kernelspec": {
   "display_name": "velo",
   "language": "python",
   "name": "velo"
  },
  "language_info": {
   "codemirror_mode": {
    "name": "ipython",
    "version": 3
   },
   "file_extension": ".py",
   "mimetype": "text/x-python",
   "name": "python",
   "nbconvert_exporter": "python",
   "pygments_lexer": "ipython3",
   "version": "3.6.8"
  }
 },
 "nbformat": 4,
 "nbformat_minor": 2
}
